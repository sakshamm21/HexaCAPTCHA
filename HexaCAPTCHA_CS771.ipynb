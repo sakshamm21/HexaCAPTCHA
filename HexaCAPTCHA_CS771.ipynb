{
  "cells": [
    {
      "cell_type": "code",
      "execution_count": null,
      "metadata": {
        "id": "RTQDvB6aKpnt"
      },
      "outputs": [],
      "source": [
        "from google.colab import drive\n",
        "drive.mount('/content/drive')"
      ]
    },
    {
      "cell_type": "code",
      "execution_count": null,
      "metadata": {
        "id": "ewBVNaVHzioE"
      },
      "outputs": [],
      "source": [
        "import os\n",
        "import cv2\n",
        "import numpy as np\n",
        "import pandas as pd\n",
        "import tensorflow as tf\n",
        "from sklearn.model_selection import train_test_split\n",
        "from sklearn.metrics import accuracy_score, precision_score, recall_score, f1_score\n",
        "from tensorflow.keras import layers\n",
        "from PIL import Image\n",
        "from sklearn.cluster import KMeans\n",
        "from sklearn.svm import SVC\n",
        "from sklearn.model_selection import train_test_split\n",
        "from sklearn.metrics import accuracy_score"
      ]
    },
    {
      "cell_type": "code",
      "execution_count": null,
      "metadata": {
        "id": "O3ZAA4aTzo0f"
      },
      "outputs": [],
      "source": [
        "image_directory = '/content/drive/MyDrive/train/'  # Replace with the actual image directory path\n",
        "labels_file = '/content/drive/MyDrive/train/labels.txt'  # Replace with the actual path to the labels file"
      ]
    },
    {
      "cell_type": "code",
      "source": [
        "# Step 1: Preprocessing\n",
        "def extract_background_color(image):\n",
        "    corners = [(0, 0), (0, image.shape[0]-1), (image.shape[1]-1, 0), (image.shape[1]-1, image.shape[0]-1)]\n",
        "    corner_colors = [image[y, x] for x, y in corners]\n",
        "    background_color = np.mean(corner_colors, axis=0)\n",
        "    return background_color\n",
        "\n",
        "def convert_to_hsv(image):\n",
        "    return cv2.cvtColor(image, cv2.COLOR_BGR2HSV)\n",
        "\n",
        "# Step 2: Eliminate Obfuscating Lines\n",
        "def remove_obfuscating_lines(image, background_color):\n",
        "    mask = cv2.inRange(image, background_color, background_color)\n",
        "    result = cv2.bitwise_not(image, image, mask=mask)\n",
        "    return result\n",
        "\n",
        "# Step 3: Image Segmentation\n",
        "def segment_image(image):\n",
        "    grayscale = cv2.cvtColor(image, cv2.COLOR_BGR2GRAY)\n",
        "    _, binary = cv2.threshold(grayscale, 127, 255, cv2.THRESH_BINARY)\n",
        "    contours, _ = cv2.findContours(binary, cv2.RETR_EXTERNAL, cv2.CHAIN_APPROX_SIMPLE)\n",
        "\n",
        "    segments = []\n",
        "    for contour in contours:\n",
        "        x, y, w, h = cv2.boundingRect(contour)\n",
        "        if w > 10 and h > 10:  # filter out small segments\n",
        "            segment = image[y:y+h, x:x+w]\n",
        "            segments.append(segment)\n",
        "\n",
        "    return segments"
      ],
      "metadata": {
        "id": "f1Y7hVyh2CDt"
      },
      "execution_count": null,
      "outputs": []
    },
    {
      "cell_type": "code",
      "source": [
        "image_size=(100,500)\n",
        "with open(labels_file, 'r') as file:\n",
        "  labels=[line.strip() for line in file]"
      ],
      "metadata": {
        "id": "AssKMleBI1ts"
      },
      "execution_count": null,
      "outputs": []
    },
    {
      "cell_type": "code",
      "source": [
        "images=[]\n",
        "for i in range(2000):\n",
        "  filename = str(i) + '.png'\n",
        "  image_path = os.path.join(image_directory, filename)\n",
        "  image = cv2.imread(image_path)\n",
        "  if image is not None and image.size != 0:\n",
        "        image = cv2.resize(image, image_size)\n",
        "        image = cv2.imread(image_path)\n",
        "        background_color = extract_background_color(image)\n",
        "        image_hsv = convert_to_hsv(image)\n",
        "        image_without_lines = remove_obfuscating_lines(image_hsv, background_color)\n",
        "        # Image Segmentation\n",
        "        segments = segment_image(image_without_lines)\n",
        "        images.append(image)"
      ],
      "metadata": {
        "id": "YeyqTg-eJIc3"
      },
      "execution_count": null,
      "outputs": []
    },
    {
      "cell_type": "code",
      "source": [
        "parities = []\n",
        "for label in labels:\n",
        "    if label == 'ODD' or label == 'EVEN':\n",
        "        parities.append(label)\n",
        "    else:\n",
        "        decimal_number = int(label, 16)\n",
        "        if decimal_number % 2 == 0:\n",
        "            parities.append('EVEN')\n",
        "        else:\n",
        "            parities.append('ODD')"
      ],
      "metadata": {
        "id": "1y7UXz9kKLJa"
      },
      "execution_count": null,
      "outputs": []
    },
    {
      "cell_type": "code",
      "source": [
        "df = pd.DataFrame({'image': images, 'parity': parities})\n",
        "df = df.sample(frac=1).reset_index(drop=True)\n",
        "X_train, X_val, y_train, y_val = train_test_split(df['image'], df['parity'], test_size=0.2, random_state=42)\n",
        "X_train = np.array(X_train.tolist()) / 255.0\n",
        "X_val = np.array(X_val.tolist()) / 255.0\n",
        "label_dict = {'EVEN': 0, 'ODD': 1}\n",
        "y_train_encoded = np.array([label_dict[label] for label in y_train])\n",
        "y_val_encoded = np.array([label_dict[label] for label in y_val])\n"
      ],
      "metadata": {
        "id": "tC-XvDQRLUSK"
      },
      "execution_count": null,
      "outputs": []
    },
    {
      "cell_type": "code",
      "source": [
        "model = tf.keras.Sequential([\n",
        "    layers.Conv2D(32, (3, 3), activation='relu', input_shape=(100, 500, 3)),\n",
        "    layers.MaxPooling2D((2, 2)),\n",
        "    layers.Conv2D(64, (3, 3), activation='relu'),\n",
        "    layers.MaxPooling2D((2, 2)),\n",
        "    layers.Conv2D(64, (3, 3), activation='relu'),\n",
        "    layers.Flatten(),\n",
        "    layers.Dense(64, activation='relu'),\n",
        "    layers.Dense(2, activation='softmax')  # 2 classes: Even and Odd\n",
        "])"
      ],
      "metadata": {
        "id": "R3ea9DnnMNhF"
      },
      "execution_count": null,
      "outputs": []
    },
    {
      "cell_type": "code",
      "source": [
        "model.compile(optimizer='adam',\n",
        "              loss='sparse_categorical_crossentropy',\n",
        "              metrics=['accuracy'])"
      ],
      "metadata": {
        "id": "yF-E9DPlMtGi"
      },
      "execution_count": null,
      "outputs": []
    },
    {
      "cell_type": "code",
      "source": [
        "X_train = np.transpose(X_train, (0, 2, 1, 3))\n",
        "X_val = np.transpose(X_val, (0, 2, 1, 3))"
      ],
      "metadata": {
        "id": "H04TP6WAMzqj"
      },
      "execution_count": null,
      "outputs": []
    },
    {
      "cell_type": "code",
      "source": [
        "history = model.fit(X_train, y_train_encoded, batch_size=64, epochs=20, validation_data=(X_val, y_val_encoded))"
      ],
      "metadata": {
        "id": "lX4zGYQcM08q"
      },
      "execution_count": null,
      "outputs": []
    },
    {
      "cell_type": "code",
      "source": [
        "y_val_pred = model.predict(X_val)\n",
        "y_val_pred = np.argmax(y_val_pred, axis=1)\n",
        "val_accuracy = accuracy_score(y_val_encoded, y_val_pred)\n",
        "val_precision = precision_score(y_val_encoded, y_val_pred, average='weighted')\n",
        "val_recall = recall_score(y_val_encoded, y_val_pred, average='weighted')\n",
        "val_f1_score = f1_score(y_val_encoded, y_val_pred, average='weighted')\n",
        "\n",
        "print(\"Validation Metrics:\")\n",
        "print(f\"Accuracy: {val_accuracy}\")\n",
        "print(f\"Precision: {val_precision}\")\n",
        "print(f\"Recall: {val_recall}\")\n",
        "print(f\"F1 Score: {val_f1_score}\")\n"
      ],
      "metadata": {
        "id": "yxZYvAj6M8vR"
      },
      "execution_count": null,
      "outputs": []
    },
    {
      "cell_type": "code",
      "source": [],
      "metadata": {
        "id": "ynKpwb7hSuRX"
      },
      "execution_count": null,
      "outputs": []
    }
  ],
  "metadata": {
    "accelerator": "GPU",
    "colab": {
      "provenance": []
    },
    "kernelspec": {
      "display_name": "Python 3",
      "name": "python3"
    },
    "language_info": {
      "name": "python"
    }
  },
  "nbformat": 4,
  "nbformat_minor": 0
}